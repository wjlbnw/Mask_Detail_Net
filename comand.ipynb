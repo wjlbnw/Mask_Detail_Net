{
 "cells": [
  {
   "cell_type": "code",
   "execution_count": 5,
   "id": "401f3f9a",
   "metadata": {
    "scrolled": true
   },
   "outputs": [
    {
     "name": "stdout",
     "output_type": "stream",
     "text": [
      "{'batch_size': 4, 'max_epoches': 2000, 'save_mode_step': 2000, 'lr': 0.0001, 'num_workers': 4, 'wt_dec': 0, 'session_name': 'test_train', 'crop_size': 448, 'weights': None, 'data_root': '/home/wujiali/DeepLearning/dataset/DIBCO', 'tblog_dir': 'train_log', 'ret_root': 'train_ret', 'out_root': '/home/wujiali/DeepLearning/train_out/DIBCO_out', 'cut_size': 1024}\n",
      "Session started:  Wed Jan 12 10:10:38 2022\n",
      "Iter:   50/48000 loss:0.8861 0.4753 0.4108 imps:2.4\n",
      "val result F-socre: 0.6433, precision: 0.4873, recall: 0.9874 Fin:Wed Jan 12 19:45:17 2022\n",
      "^C\n",
      "Traceback (most recent call last):\n",
      "  File \"train_mask_detail.py\", line 241, in <module>\n",
      "    seg_optimizer.step()\n",
      "  File \"/home/wujiali/anaconda3/envs/envSEAM/lib/python3.6/site-packages/torch/optim/optimizer.py\", line 88, in wrapper\n",
      "    return func(*args, **kwargs)\n",
      "  File \"/home/wujiali/anaconda3/envs/envSEAM/lib/python3.6/site-packages/torch/autograd/grad_mode.py\", line 28, in decorate_context\n",
      "    return func(*args, **kwargs)\n",
      "  File \"/home/wujiali/anaconda3/envs/envSEAM/lib/python3.6/site-packages/torch/optim/adam.py\", line 144, in step\n",
      "    eps=group['eps'])\n",
      "  File \"/home/wujiali/anaconda3/envs/envSEAM/lib/python3.6/site-packages/torch/optim/_functional.py\", line 94, in adam\n",
      "    denom = (exp_avg_sq.sqrt() / math.sqrt(bias_correction2)).add_(eps)\n",
      "KeyboardInterrupt\n"
     ]
    }
   ],
   "source": [
    "!python train_mask_detail.py \\\n",
    "--batch_size 4 \\\n",
    "--num_workers 4 \\\n",
    "--max_epoches 2000 \\\n",
    "--session_name test_train \\\n",
    "--save_mode_step 2000 \\\n",
    "--data_root /home/wujiali/DeepLearning/dataset/DIBCO \\\n",
    "--tblog_dir train_log \\\n",
    "--ret_root train_ret \\\n",
    "--out_root /home/wujiali/DeepLearning/train_out/DIBCO_out"
   ]
  },
  {
   "cell_type": "code",
   "execution_count": 2,
   "id": "6d05ef1a",
   "metadata": {},
   "outputs": [
    {
     "name": "stdout",
     "output_type": "stream",
     "text": [
      "{'weight_path': '/home/wujiali/DeepLearning/train_out/DIBCO_out/Train_Mask_Detail_20211221/train_ret/Train_Mask_Detail_20211221.pth', 'data_root': '/home/wujiali/DeepLearning/dataset/DIBCO', 'infer_root': '/home/wujiali/DeepLearning/test_out/DIBCO_out', 'infer_session': 'test_session', 'cut_size': 1024}\n",
      "infer started...\n",
      "Infer end...\n"
     ]
    }
   ],
   "source": [
    "!python infer_mask_detail.py \\\n",
    "--weight_path /home/wujiali/DeepLearning/train_out/DIBCO_out/Train_Mask_Detail_20211221/train_ret/Train_Mask_Detail_20211221.pth \\\n",
    "--data_root /home/wujiali/DeepLearning/dataset/DIBCO \\\n",
    "--infer_root /home/wujiali/DeepLearning/test_out/DIBCO_out \\\n",
    "--infer_session test_session "
   ]
  },
  {
   "cell_type": "code",
   "execution_count": null,
   "id": "97e6bb1c",
   "metadata": {},
   "outputs": [],
   "source": []
  }
 ],
 "metadata": {
  "kernelspec": {
   "display_name": "Python 3",
   "language": "python",
   "name": "python3"
  },
  "language_info": {
   "codemirror_mode": {
    "name": "ipython",
    "version": 3
   },
   "file_extension": ".py",
   "mimetype": "text/x-python",
   "name": "python",
   "nbconvert_exporter": "python",
   "pygments_lexer": "ipython3",
   "version": "3.6.13"
  }
 },
 "nbformat": 4,
 "nbformat_minor": 5
}
